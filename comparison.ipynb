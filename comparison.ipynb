{
 "cells": [
  {
   "cell_type": "code",
   "execution_count": 2,
   "metadata": {},
   "outputs": [],
   "source": [
    "import subprocess\n"
   ]
  },
  {
   "cell_type": "code",
   "execution_count": 21,
   "metadata": {},
   "outputs": [
    {
     "name": "stdout",
     "output_type": "stream",
     "text": [
      "\n",
      "Timing comparison (each option treated independently)\n",
      "\n",
      "Query                                                                  | globalbcp=false  | Neither    | Prelearn   | Original  \n",
      "-----------------------------------------------------------------------------------------------------------------------------\n",
      "11db226d109e82f93aaa3b2604173ff9-posixpath__joinrealpath_13.cnf        | med=99.98      | med=99.72      | 30.05      | 1800.00   \n",
      "112b0ac22b2a567cd3badfed3a5497fd-mchess16-mixed-35percent-blocked.cnf  | med=147.58     | med=147.51     | 38.60      | 41.96     \n",
      "21bde0ebb111c637a1ae8789827b0b73-WCNF_from_fp_13.cnf                   | med=32.31      | med=32.41      | 30.06      | 1800.00   \n",
      "19004c7d629f7e6e83c6e1d7a9a768a9-6s166.cnf                             | med=598.1      | med=597.63     | 105.15     | 114.50    \n",
      "37d40a1092b58ad28285b9453872d211-DecompressReader_read_12.cnf          | med=36.36      | med=1800.01    | 30.05      | 1800.01   \n",
      "4029fbae284eaf924b37b6f43d3a67fb-WCNF_from_fp_14.cnf                   | med=116.46     | med=388.58     | 30.11      | 1800.01   \n",
      "41457ee03686b32962c12445524f62a9-mchess18-mixed-45percent-blocked.cnf  | med=1341.19    | med=526.23     | 114.41     | 127.86    \n",
      "246afd75cb97a21144f368c00252a656-BZ2File_write_11.cnf                  | med=1800.0     | med=1800.01    | 30.09      | 1371.12   \n",
      "2c3c28f6d939d157e909c57a265fc908-mchess_17.cnf                         | med=1800.01    | med=1800.01    | 37.88      | 1800.00   \n",
      "44092fcc83a5cba81419e82cfd18602c-php-010-009.shuffled-as.sat05-1185.cnf | med=0.12       | med=0.12       | 30.03      | 4.97      \n",
      "41a8365f60db55b71d949df6954e0db7-FileObject_open_13.cnf                | med=1800.01    | med=1800.01    | 30.05      | 1800.01   \n",
      "644fd765d26bd4a380922ccd0f594c58-mchess18-mixed-25percent-blocked.cnf  | med=1800.01    | med=1524.54    | 79.75      | 278.21    \n",
      "72b5ad031bf852634bc081f9da9a5a60-GzipFile_close_11.cnf                 | med=34.61      | med=55.34      | 30.05      | 1800.01   \n",
      "7aaf3275cbe217044ef305f0a1ca8eb5-CNFPlus_from_fp_12.cnf                | med=384.66     | med=31.81      | 30.06      | 1800.01   \n",
      "6aacae96461cb65176942b6dc88ea470-mchess20-mixed-25percent-blocked.cnf  | med=1800.01    | med=1800.01    | 1358.74    | 1800.00   \n",
      "8704094951693f99fd21403a039c8131-mchess_16.cnf                         | med=696.6      | med=545.8      | 32.97      | 92.70     \n",
      "8d458780fb74c28c01a5fe89990ad521-mchess16-mixed-45percent-blocked.cnf  | med=124.17     | med=116.92     | 36.45      | 18.79     \n",
      "965ca988015c9aee5a1a7b2136c1fe5d-os_fwalk_12.cnf                       | med=1276.28    | med=1268.6     | 30.07      | 1800.00   \n",
      "751afd7ddf8f242ed7bd93517ba82149-mchess20-mixed-45percent-blocked.cnf  | med=1800.01    | med=1800.01    | 461.74     | 766.02    \n",
      "a4b05fbc5be28207b704e1fae4b7c8a0-FileObject_open_12.cnf                | med=81.77      | med=1800.0     | 30.06      | 1800.01   \n",
      "824c21545e228872744675ae4ee32976-WCNFPlus_to_alien_14.cnf              | med=1800.0     | med=1800.01    | 30.12      | 1800.00   \n",
      "b09585f2346c207e9e14a3daf0de46cf-CNF_to_alien_11.cnf                   | med=1800.01    | med=1514.79    | 30.05      | 1545.83   \n",
      "c32f194ad850c944142c74514dfb3c5f-WCNFPlus_from_fp_13.cnf               | med=731.7      | med=738.4      | 30.17      | 1800.01   \n",
      "af1e84bc2ab44d87d1c4c0cbf9e601c5-posixpath_expanduser_14.cnf           | med=1800.01    | med=1800.01    | 54.39      | 1800.00   \n",
      "cb2e8b7fada420c5046f587ea754d052-clique_n2_k10.sanitized.cnf           | med=112.2      | med=816.88     | 30.06      | 505.88    \n",
      "d7f381cd99ca40ba3324c8cc03a54269-mchess16-mixed-25percent-blocked.cnf  | med=293.68     | med=351.03     | 38.00      | 45.57     \n",
      "b2145c28dbed385329ea73a06d9c519a-LZMAFile___init___14.cnf              | med=1800.01    | med=1800.01    | 30.07      | 1800.01   \n",
      "ec84eecb124c63d4757e083dd0e5a9ff-mchess_15.cnf                         | med=519.91     | med=389.41     | 31.47      | 123.69    \n",
      "fd2af7622798171f23a4b8d2616df55e-StreamReader_readline_13.cnf          | med=1800.01    | med=530.58     | 30.03      | 1800.01   \n",
      "fe8b1ef742724947620a419d0180a640-mchess18-mixed-35percent-blocked.cnf  | med=1800.01    | med=1800.0     | 88.26      | 271.09    \n",
      "dd169198070f9aa35015de65e8209a05-LZMAFile_write_12.cnf                 | med=1800.01    | med=1800.01    | 30.09      | 1800.01   \n",
      "ff867fd35aa52058382a8b0c21cd1f38-mchess20-mixed-35percent-blocked.cnf  | med=1800.01    | med=1800.01    | 421.87     | 1542.11   \n"
     ]
    },
    {
     "data": {
      "text/plain": [
       "CompletedProcess(args=['python3', 'analyze_cadical_log.py', 'slurm-30715203.out', 'globalbcp=false '], returncode=0)"
      ]
     },
     "execution_count": 21,
     "metadata": {},
     "output_type": "execute_result"
    }
   ],
   "source": [
    "subprocess.run([\"python3\", \"analyze_cadical_log.py\", \"slurm-30715203.out\", \"globalbcp=false \"])"
   ]
  },
  {
   "cell_type": "markdown",
   "metadata": {},
   "source": []
  },
  {
   "cell_type": "code",
   "execution_count": 22,
   "metadata": {},
   "outputs": [
    {
     "name": "stdout",
     "output_type": "stream",
     "text": [
      "\n",
      "Timing comparison (each option treated independently)\n",
      "\n",
      "Query                                                                  | --globalfiltertriv=true  | --globalmaxlen=2  | --globalmaxlen=4  | --globalmaxlen=8  | --globalmaxlen=16  | Neither    | Prelearn   | Original  \n",
      "---------------------------------------------------------------------------------------------------------------------------------------------------------------------------------\n",
      "112b0ac22b2a567cd3badfed3a5497fd-mchess16-mixed-35percent-blocked.cnf  | med=117.41     | med=104.53     | med=111.08     | med=125.31     | med=117.43     | med=108.28     | 38.60      | 41.96     \n",
      "11db226d109e82f93aaa3b2604173ff9-posixpath__joinrealpath_13.cnf        | med=44.28      | med=30.46      | med=32.21      | med=116.78     | med=99.06      | med=1800.01    | 30.05      | 1800.00   \n",
      "19004c7d629f7e6e83c6e1d7a9a768a9-6s166.cnf                             | med=584.65     | med=587.05     | med=620.74     | med=575.28     | med=575.33     | med=682.58     | 105.15     | 114.50    \n",
      "21bde0ebb111c637a1ae8789827b0b73-WCNF_from_fp_13.cnf                   | med=45.73      | med=32.21      | med=90.24      | med=113.27     | med=31.46      | med=529.32     | 30.06      | 1800.00   \n",
      "246afd75cb97a21144f368c00252a656-BZ2File_write_11.cnf                  | med=1341.72    | med=11.08      | med=1129.28    | med=1631.26    | med=1229.45    | med=1800.01    | 30.09      | 1371.12   \n",
      "2c3c28f6d939d157e909c57a265fc908-mchess_17.cnf                         | med=1066.95    | med=1066.95    | med=1650.44    | med=1800.01    | med=560.26     | med=1800.01    | 37.88      | 1800.00   \n",
      "37d40a1092b58ad28285b9453872d211-DecompressReader_read_12.cnf          | med=30.36      | med=6.48       | med=29.21      | med=30.66      | med=30.26      | med=37.37      | 30.05      | 1800.01   \n",
      "4029fbae284eaf924b37b6f43d3a67fb-WCNF_from_fp_14.cnf                   | med=655.24     | med=39.07      | med=96.0       | med=700.79     | med=1404.3     | med=40.22      | 30.11      | 1800.01   \n",
      "41457ee03686b32962c12445524f62a9-mchess18-mixed-45percent-blocked.cnf  | med=732.95     | med=651.98     | med=596.25     | med=917.85     | med=606.22     | med=642.02     | 114.41     | 127.86    \n",
      "41a8365f60db55b71d949df6954e0db7-FileObject_open_13.cnf                | med=30.86      | med=30.31      | med=33.82      | med=38.92      | med=21.95      | med=1266.84    | 30.05      | 1800.01   \n",
      "44092fcc83a5cba81419e82cfd18602c-php-010-009.shuffled-as.sat05-1185.cnf | med=0.12       | med=0.12       | med=0.12       | med=0.12       | med=0.12       | med=0.12       | 30.03      | 4.97      \n",
      "644fd765d26bd4a380922ccd0f594c58-mchess18-mixed-25percent-blocked.cnf  | med=1800.0     | med=1690.62    | med=1800.01    | med=1625.57    | med=1800.01    | med=1787.29    | 79.75      | 278.21    \n",
      "72b5ad031bf852634bc081f9da9a5a60-GzipFile_close_11.cnf                 | med=18.34      | med=6.23       | med=19.14      | med=26.76      | med=15.94      | med=43.17      | 30.05      | 1800.01   \n",
      "6aacae96461cb65176942b6dc88ea470-mchess20-mixed-25percent-blocked.cnf  | med=1800.01    | med=1800.01    | med=1800.01    | med=1800.01    | med=1800.01    | med=1800.01    | 1358.74    | 1800.00   \n",
      "7aaf3275cbe217044ef305f0a1ca8eb5-CNFPlus_from_fp_12.cnf                | med=30.61      | med=30.21      | med=30.61      | med=31.16      | med=30.81      | med=52.94      | 30.06      | 1800.01   \n",
      "751afd7ddf8f242ed7bd93517ba82149-mchess20-mixed-45percent-blocked.cnf  | med=1800.01    | med=1800.01    | med=1800.01    | med=1800.01    | med=1800.01    | med=1800.01    | 461.74     | 766.02    \n",
      "8704094951693f99fd21403a039c8131-mchess_16.cnf                         | med=97.15      | med=54.39      | med=120.07     | med=134.55     | med=117.32     | med=580.75     | 32.97      | 92.70     \n",
      "824c21545e228872744675ae4ee32976-WCNFPlus_to_alien_14.cnf              | med=1800.01    | med=1800.01    | med=1800.01    | med=1800.01    | med=1800.01    | med=1800.01    | 30.12      | 1800.00   \n",
      "8d458780fb74c28c01a5fe89990ad521-mchess16-mixed-45percent-blocked.cnf  | med=100.01     | med=99.25      | med=88.38      | med=104.11     | med=99.1       | med=110.07     | 36.45      | 18.79     \n",
      "965ca988015c9aee5a1a7b2136c1fe5d-os_fwalk_12.cnf                       | med=31.76      | med=30.36      | med=32.61      | med=31.46      | med=31.71      | med=1271.42    | 30.07      | 1800.00   \n",
      "a4b05fbc5be28207b704e1fae4b7c8a0-FileObject_open_12.cnf                | med=31.01      | med=30.36      | med=31.72      | med=32.97      | med=37.67      | med=616.74     | 30.06      | 1800.01   \n",
      "af1e84bc2ab44d87d1c4c0cbf9e601c5-posixpath_expanduser_14.cnf           | med=1800.01    | med=1800.01    | med=1800.01    | med=1800.01    | med=1800.01    | med=1800.01    | 54.39      | 1800.00   \n",
      "b09585f2346c207e9e14a3daf0de46cf-CNF_to_alien_11.cnf                   | med=41.02      | med=30.26      | med=30.91      | med=41.02      | med=487.47     | med=734.46     | 30.05      | 1545.83   \n",
      "b2145c28dbed385329ea73a06d9c519a-LZMAFile___init___14.cnf              | med=1800.01    | med=40.02      | med=1800.01    | med=1800.01    | med=1800.01    | med=1800.01    | 30.07      | 1800.01   \n",
      "c32f194ad850c944142c74514dfb3c5f-WCNFPlus_from_fp_13.cnf               | med=41.02      | med=108.76     | med=39.07      | med=32.26      | med=70.81      | med=104.16     | 30.17      | 1800.01   \n",
      "cb2e8b7fada420c5046f587ea754d052-clique_n2_k10.sanitized.cnf           | med=26.0       | med=15.74      | med=16.04      | med=22.05      | med=38.37      | med=402.46     | 30.06      | 505.88    \n",
      "d7f381cd99ca40ba3324c8cc03a54269-mchess16-mixed-25percent-blocked.cnf  | med=169.09     | med=141.21     | med=231.84     | med=277.54     | med=170.31     | med=233.68     | 38.00      | 45.57     \n",
      "dd169198070f9aa35015de65e8209a05-LZMAFile_write_12.cnf                 | med=1800.01    | med=16.04      | med=1800.01    | med=1800.01    | med=1800.01    | med=1800.01    | 30.09      | 1800.01   \n",
      "ec84eecb124c63d4757e083dd0e5a9ff-mchess_15.cnf                         | med=67.91      | med=33.16      | med=58.45      | med=101.7      | med=67.71      | med=320.39     | 31.47      | 123.69    \n",
      "fd2af7622798171f23a4b8d2616df55e-StreamReader_readline_13.cnf          | med=30.91      | med=30.46      | med=30.76      | med=37.22      | med=31.41      | med=830.84     | 30.03      | 1800.01   \n",
      "fe8b1ef742724947620a419d0180a640-mchess18-mixed-35percent-blocked.cnf  | med=1726.26    | med=1800.01    | med=1516.85    | med=1800.01    | med=1637.4     | med=1800.01    | 88.26      | 271.09    \n",
      "ff867fd35aa52058382a8b0c21cd1f38-mchess20-mixed-35percent-blocked.cnf  | med=1800.01    | med=1800.01    | med=1800.01    | med=1800.01    | med=1800.01    | med=1800.01    | 421.87     | 1542.11   \n"
     ]
    },
    {
     "data": {
      "text/plain": [
       "CompletedProcess(args=['python3', 'analyze_cadical_log.py', 'slurm-30715204.out', '--globalfiltertriv=true ', '--globalmaxlen=2 ', '--globalmaxlen=4 ', '--globalmaxlen=8 ', '--globalmaxlen=16 '], returncode=0)"
      ]
     },
     "execution_count": 22,
     "metadata": {},
     "output_type": "execute_result"
    }
   ],
   "source": [
    "subprocess.run([\"python3\", \"analyze_cadical_log.py\", \"slurm-30715204.out\", \"--globalfiltertriv=true \", \"--globalmaxlen=2 \", \"--globalmaxlen=4 \", \"--globalmaxlen=8 \", \"--globalmaxlen=16 \"])"
   ]
  },
  {
   "cell_type": "code",
   "execution_count": 23,
   "metadata": {},
   "outputs": [
    {
     "name": "stdout",
     "output_type": "stream",
     "text": [
      "\n",
      "Timing comparison (each option treated independently)\n",
      "\n",
      "Query                                                                  | --globalbothpol=false  | Neither    | Prelearn   | Original  \n",
      "-----------------------------------------------------------------------------------------------------------------------------\n",
      "21bde0ebb111c637a1ae8789827b0b73-WCNF_from_fp_13.cnf                   | med=40.77      | med=77.32      | 30.06      | 1800.00   \n",
      "112b0ac22b2a567cd3badfed3a5497fd-mchess16-mixed-35percent-blocked.cnf  | med=100.12     | med=139.84     | 38.60      | 41.96     \n",
      "19004c7d629f7e6e83c6e1d7a9a768a9-6s166.cnf                             | med=268.04     | med=237.82     | 105.15     | 114.50    \n",
      "246afd75cb97a21144f368c00252a656-BZ2File_write_11.cnf                  | med=1800.01    | med=1800.0     | 30.09      | 1371.12   \n",
      "37d40a1092b58ad28285b9453872d211-DecompressReader_read_12.cnf          | med=31.19      | med=32.81      | 30.05      | 1800.01   \n",
      "11db226d109e82f93aaa3b2604173ff9-posixpath__joinrealpath_13.cnf        | med=1800.02    | med=1800.01    | 30.05      | 1800.00   \n",
      "2c3c28f6d939d157e909c57a265fc908-mchess_17.cnf                         | med=1800.01    | med=1800.01    | 37.88      | 1800.00   \n",
      "41a8365f60db55b71d949df6954e0db7-FileObject_open_13.cnf                | med=1800.01    | med=1800.01    | 30.05      | 1800.01   \n",
      "44092fcc83a5cba81419e82cfd18602c-php-010-009.shuffled-as.sat05-1185.cnf | med=0.07       | med=0.12       | 30.03      | 4.97      \n",
      "41457ee03686b32962c12445524f62a9-mchess18-mixed-45percent-blocked.cnf  | med=932.51     | med=890.42     | 114.41     | 127.86    \n",
      "4029fbae284eaf924b37b6f43d3a67fb-WCNF_from_fp_14.cnf                   | med=1800.01    | med=858.38     | 30.11      | 1800.01   \n",
      "644fd765d26bd4a380922ccd0f594c58-mchess18-mixed-25percent-blocked.cnf  | med=1763.28    | med=1800.0     | 79.75      | 278.21    \n",
      "72b5ad031bf852634bc081f9da9a5a60-GzipFile_close_11.cnf                 | med=98.35      | med=30.51      | 30.05      | 1800.01   \n",
      "7aaf3275cbe217044ef305f0a1ca8eb5-CNFPlus_from_fp_12.cnf                | med=30.56      | med=30.91      | 30.06      | 1800.01   \n",
      "6aacae96461cb65176942b6dc88ea470-mchess20-mixed-25percent-blocked.cnf  | med=1800.01    | med=1800.01    | 1358.74    | 1800.00   \n",
      "8704094951693f99fd21403a039c8131-mchess_16.cnf                         | med=593.92     | med=693.8      | 32.97      | 92.70     \n",
      "8d458780fb74c28c01a5fe89990ad521-mchess16-mixed-45percent-blocked.cnf  | med=89.44      | med=92.89      | 36.45      | 18.79     \n",
      "751afd7ddf8f242ed7bd93517ba82149-mchess20-mixed-45percent-blocked.cnf  | med=1800.01    | med=1800.01    | 461.74     | 766.02    \n",
      "965ca988015c9aee5a1a7b2136c1fe5d-os_fwalk_12.cnf                       | med=1800.01    | med=1260.61    | 30.07      | 1800.00   \n",
      "a4b05fbc5be28207b704e1fae4b7c8a0-FileObject_open_12.cnf                | med=38.37      | med=70.21      | 30.06      | 1800.01   \n",
      "824c21545e228872744675ae4ee32976-WCNFPlus_to_alien_14.cnf              | med=1800.01    | med=1800.01    | 30.12      | 1800.00   \n",
      "b09585f2346c207e9e14a3daf0de46cf-CNF_to_alien_11.cnf                   | med=1357.48    | med=1013.03    | 30.05      | 1545.83   \n",
      "c32f194ad850c944142c74514dfb3c5f-WCNFPlus_from_fp_13.cnf               | med=116.23     | med=780.57     | 30.17      | 1800.01   \n",
      "af1e84bc2ab44d87d1c4c0cbf9e601c5-posixpath_expanduser_14.cnf           | med=1800.01    | med=1800.01    | 54.39      | 1800.00   \n",
      "cb2e8b7fada420c5046f587ea754d052-clique_n2_k10.sanitized.cnf           | med=69.71      | med=270.98     | 30.06      | 505.88    \n",
      "d7f381cd99ca40ba3324c8cc03a54269-mchess16-mixed-25percent-blocked.cnf  | med=289.2      | med=176.36     | 38.00      | 45.57     \n",
      "b2145c28dbed385329ea73a06d9c519a-LZMAFile___init___14.cnf              | med=1800.01    | med=1800.01    | 30.07      | 1800.01   \n",
      "ec84eecb124c63d4757e083dd0e5a9ff-mchess_15.cnf                         | med=601.72     | med=585.5      | 31.47      | 123.69    \n",
      "fd2af7622798171f23a4b8d2616df55e-StreamReader_readline_13.cnf          | med=794.47     | med=263.77     | 30.03      | 1800.01   \n",
      "fe8b1ef742724947620a419d0180a640-mchess18-mixed-35percent-blocked.cnf  | med=1800.01    | med=1692.65    | 88.26      | 271.09    \n",
      "dd169198070f9aa35015de65e8209a05-LZMAFile_write_12.cnf                 | med=1800.01    | med=1800.01    | 30.09      | 1800.01   \n",
      "ff867fd35aa52058382a8b0c21cd1f38-mchess20-mixed-35percent-blocked.cnf  | med=1800.01    | med=1800.01    | 421.87     | 1542.11   \n"
     ]
    },
    {
     "data": {
      "text/plain": [
       "CompletedProcess(args=['python3', 'analyze_cadical_log.py', 'slurm-30715205.out', '--globalbothpol=false '], returncode=0)"
      ]
     },
     "execution_count": 23,
     "metadata": {},
     "output_type": "execute_result"
    }
   ],
   "source": [
    "subprocess.run([\"python3\", \"analyze_cadical_log.py\", \"slurm-30715205.out\", \"--globalbothpol=false \"])"
   ]
  },
  {
   "cell_type": "code",
   "execution_count": 24,
   "metadata": {},
   "outputs": [
    {
     "name": "stdout",
     "output_type": "stream",
     "text": [
      "\n",
      "Timing comparison (each option treated independently)\n",
      "\n",
      "Query                                                                  | --globaltimelim=5  | --globaltimelim=30  | --globaltimelim=120  | Neither    | Prelearn   | Original  \n",
      "-------------------------------------------------------------------------------------------------------------------------------------------------------\n",
      "112b0ac22b2a567cd3badfed3a5497fd-mchess16-mixed-35percent-blocked.cnf  | med=260.29     | med=160.18     | med=271.01     | med=None       | 38.60      | 41.96     \n",
      "19004c7d629f7e6e83c6e1d7a9a768a9-6s166.cnf                             | med=193.56     | med=620.12     | med=591.43     | med=None       | 105.15     | 114.50    \n",
      "21bde0ebb111c637a1ae8789827b0b73-WCNF_from_fp_13.cnf                   | med=1800.01    | med=69.1       | med=154.81     | med=None       | 30.06      | 1800.00   \n",
      "246afd75cb97a21144f368c00252a656-BZ2File_write_11.cnf                  | med=1800.01    | med=1800.0     | med=852.03     | med=None       | 30.09      | 1371.12   \n",
      "11db226d109e82f93aaa3b2604173ff9-posixpath__joinrealpath_13.cnf        | med=1800.01    | med=1800.01    | med=1800.02    | med=None       | 30.05      | 1800.00   \n",
      "37d40a1092b58ad28285b9453872d211-DecompressReader_read_12.cnf          | med=28.5       | med=121.61     | med=122.26     | med=None       | 30.05      | 1800.01   \n",
      "4029fbae284eaf924b37b6f43d3a67fb-WCNF_from_fp_14.cnf                   | med=1800.01    | med=1800.0     | med=174.12     | med=None       | 30.11      | 1800.01   \n",
      "41457ee03686b32962c12445524f62a9-mchess18-mixed-45percent-blocked.cnf  | med=688.0      | med=1310.34    | med=1559.0     | med=None       | 114.41     | 127.86    \n",
      "2c3c28f6d939d157e909c57a265fc908-mchess_17.cnf                         | med=1800.02    | med=1800.02    | med=1800.01    | med=None       | 37.88      | 1800.00   \n",
      "41a8365f60db55b71d949df6954e0db7-FileObject_open_13.cnf                | med=1800.0     | med=1800.01    | med=1800.0     | med=None       | 30.05      | 1800.01   \n",
      "44092fcc83a5cba81419e82cfd18602c-php-010-009.shuffled-as.sat05-1185.cnf | med=0.07       | med=0.07       | med=0.12       | med=None       | 30.03      | 4.97      \n",
      "644fd765d26bd4a380922ccd0f594c58-mchess18-mixed-25percent-blocked.cnf  | med=1800.01    | med=1800.01    | med=1800.01    | med=None       | 79.75      | 278.21    \n",
      "72b5ad031bf852634bc081f9da9a5a60-GzipFile_close_11.cnf                 | med=102.94     | med=38.26      | med=122.02     | med=None       | 30.05      | 1800.01   \n",
      "7aaf3275cbe217044ef305f0a1ca8eb5-CNFPlus_from_fp_12.cnf                | med=17.94      | med=36.36      | med=545.4      | med=None       | 30.06      | 1800.01   \n",
      "6aacae96461cb65176942b6dc88ea470-mchess20-mixed-25percent-blocked.cnf  | med=1800.01    | med=1800.01    | med=1800.01    | med=None       | 1358.74    | 1800.00   \n",
      "751afd7ddf8f242ed7bd93517ba82149-mchess20-mixed-45percent-blocked.cnf  | med=1800.01    | med=1800.01    | med=1800.01    | med=None       | 461.74     | 766.02    \n",
      "8d458780fb74c28c01a5fe89990ad521-mchess16-mixed-45percent-blocked.cnf  | med=93.14      | med=94.89      | med=182.35     | med=None       | 36.45      | 18.79     \n",
      "8704094951693f99fd21403a039c8131-mchess_16.cnf                         | med=666.83     | med=625.53     | med=641.43     | med=None       | 32.97      | 92.70     \n",
      "965ca988015c9aee5a1a7b2136c1fe5d-os_fwalk_12.cnf                       | med=45.72      | med=1800.0     | med=1356.64    | med=None       | 30.07      | 1800.00   \n",
      "824c21545e228872744675ae4ee32976-WCNFPlus_to_alien_14.cnf              | med=1800.01    | med=1800.01    | med=1800.01    | med=None       | 30.12      | 1800.00   \n",
      "a4b05fbc5be28207b704e1fae4b7c8a0-FileObject_open_12.cnf                | med=157.25     | med=65.95      | med=288.81     | med=None       | 30.06      | 1800.01   \n",
      "b09585f2346c207e9e14a3daf0de46cf-CNF_to_alien_11.cnf                   | med=1750.12    | med=1114.28    | med=1102.68    | med=None       | 30.05      | 1545.83   \n",
      "af1e84bc2ab44d87d1c4c0cbf9e601c5-posixpath_expanduser_14.cnf           | med=1800.01    | med=1800.01    | med=1800.01    | med=None       | 54.39      | 1800.00   \n",
      "c32f194ad850c944142c74514dfb3c5f-WCNFPlus_from_fp_13.cnf               | med=1800.01    | med=1685.02    | med=131.07     | med=None       | 30.17      | 1800.01   \n",
      "cb2e8b7fada420c5046f587ea754d052-clique_n2_k10.sanitized.cnf           | med=414.3      | med=634.04     | med=497.12     | med=None       | 30.06      | 505.88    \n",
      "d7f381cd99ca40ba3324c8cc03a54269-mchess16-mixed-25percent-blocked.cnf  | med=263.07     | med=277.32     | med=422.9      | med=None       | 38.00      | 45.57     \n",
      "b2145c28dbed385329ea73a06d9c519a-LZMAFile___init___14.cnf              | med=1800.01    | med=1800.01    | med=1800.01    | med=None       | 30.07      | 1800.01   \n",
      "ec84eecb124c63d4757e083dd0e5a9ff-mchess_15.cnf                         | med=485.23     | med=573.89     | med=602.97     | med=None       | 31.47      | 123.69    \n",
      "fd2af7622798171f23a4b8d2616df55e-StreamReader_readline_13.cnf          | med=1659.74    | med=1800.0     | med=338.51     | med=None       | 30.03      | 1800.01   \n",
      "dd169198070f9aa35015de65e8209a05-LZMAFile_write_12.cnf                 | med=1800.01    | med=1800.01    | med=1800.01    | med=None       | 30.09      | 1800.01   \n",
      "fe8b1ef742724947620a419d0180a640-mchess18-mixed-35percent-blocked.cnf  | med=1800.01    | med=1800.01    | med=1800.01    | med=None       | 88.26      | 271.09    \n",
      "ff867fd35aa52058382a8b0c21cd1f38-mchess20-mixed-35percent-blocked.cnf  | med=1800.01    | med=1800.01    | med=1800.01    | med=None       | 421.87     | 1542.11   \n"
     ]
    },
    {
     "data": {
      "text/plain": [
       "CompletedProcess(args=['python3', 'analyze_cadical_log.py', 'slurm-30715206.out', '--globaltimelim=5 ', '--globaltimelim=30 ', '--globaltimelim=120 '], returncode=0)"
      ]
     },
     "execution_count": 24,
     "metadata": {},
     "output_type": "execute_result"
    }
   ],
   "source": [
    "subprocess.run([\"python3\", \"analyze_cadical_log.py\", \"slurm-30715206.out\", \"--globaltimelim=5 \", \"--globaltimelim=30 \", \"--globaltimelim=120 \"])"
   ]
  },
  {
   "cell_type": "code",
   "execution_count": 25,
   "metadata": {},
   "outputs": [
    {
     "name": "stdout",
     "output_type": "stream",
     "text": [
      "\n",
      "Timing comparison (each option treated independently)\n",
      "\n",
      "Query                                                                  | --globaltouch=true  | Neither    | Prelearn   | Original  \n",
      "-----------------------------------------------------------------------------------------------------------------------------\n",
      "21bde0ebb111c637a1ae8789827b0b73-WCNF_from_fp_13.cnf                   | med=31.46      | med=1800.0     | 30.06      | 1800.00   \n",
      "112b0ac22b2a567cd3badfed3a5497fd-mchess16-mixed-35percent-blocked.cnf  | med=184.19     | med=368.72     | 38.60      | 41.96     \n",
      "19004c7d629f7e6e83c6e1d7a9a768a9-6s166.cnf                             | med=602.99     | med=242.25     | 105.15     | 114.50    \n",
      "246afd75cb97a21144f368c00252a656-BZ2File_write_11.cnf                  | med=1800.01    | med=1800.01    | 30.09      | 1371.12   \n",
      "11db226d109e82f93aaa3b2604173ff9-posixpath__joinrealpath_13.cnf        | med=1800.07    | med=1800.04    | 30.05      | 1800.00   \n",
      "37d40a1092b58ad28285b9453872d211-DecompressReader_read_12.cnf          | med=31.86      | med=31.1       | 30.05      | 1800.01   \n",
      "4029fbae284eaf924b37b6f43d3a67fb-WCNF_from_fp_14.cnf                   | med=38.07      | med=1150.52    | 30.11      | 1800.01   \n",
      "41a8365f60db55b71d949df6954e0db7-FileObject_open_13.cnf                | med=1800.01    | med=1800.0     | 30.05      | 1800.01   \n",
      "2c3c28f6d939d157e909c57a265fc908-mchess_17.cnf                         | med=1800.01    | med=1800.01    | 37.88      | 1800.00   \n",
      "44092fcc83a5cba81419e82cfd18602c-php-010-009.shuffled-as.sat05-1185.cnf | med=0.12       | med=8.03       | 30.03      | 4.97      \n",
      "41457ee03686b32962c12445524f62a9-mchess18-mixed-45percent-blocked.cnf  | med=440.06     | med=664.65     | 114.41     | 127.86    \n",
      "72b5ad031bf852634bc081f9da9a5a60-GzipFile_close_11.cnf                 | med=54.64      | med=147.66     | 30.05      | 1800.01   \n",
      "644fd765d26bd4a380922ccd0f594c58-mchess18-mixed-25percent-blocked.cnf  | med=1800.01    | med=840.88     | 79.75      | 278.21    \n",
      "7aaf3275cbe217044ef305f0a1ca8eb5-CNFPlus_from_fp_12.cnf                | med=38.17      | med=284.65     | 30.06      | 1800.01   \n",
      "6aacae96461cb65176942b6dc88ea470-mchess20-mixed-25percent-blocked.cnf  | med=1800.01    | med=1800.01    | 1358.74    | 1800.00   \n",
      "8704094951693f99fd21403a039c8131-mchess_16.cnf                         | med=1108.34    | med=1199.76    | 32.97      | 92.70     \n",
      "751afd7ddf8f242ed7bd93517ba82149-mchess20-mixed-45percent-blocked.cnf  | med=1800.01    | med=1800.01    | 461.74     | 766.02    \n",
      "8d458780fb74c28c01a5fe89990ad521-mchess16-mixed-45percent-blocked.cnf  | med=113.02     | med=118.48     | 36.45      | 18.79     \n",
      "965ca988015c9aee5a1a7b2136c1fe5d-os_fwalk_12.cnf                       | med=1260.89    | med=311.93     | 30.07      | 1800.00   \n",
      "a4b05fbc5be28207b704e1fae4b7c8a0-FileObject_open_12.cnf                | med=78.17      | med=621.25     | 30.06      | 1800.01   \n",
      "824c21545e228872744675ae4ee32976-WCNFPlus_to_alien_14.cnf              | med=1800.01    | med=1800.01    | 30.12      | 1800.00   \n",
      "b09585f2346c207e9e14a3daf0de46cf-CNF_to_alien_11.cnf                   | med=1800.01    | med=1120.48    | 30.05      | 1545.83   \n",
      "c32f194ad850c944142c74514dfb3c5f-WCNFPlus_from_fp_13.cnf               | med=570.84     | med=1800.01    | 30.17      | 1800.01   \n",
      "af1e84bc2ab44d87d1c4c0cbf9e601c5-posixpath_expanduser_14.cnf           | med=1800.01    | med=1800.01    | 54.39      | 1800.00   \n",
      "cb2e8b7fada420c5046f587ea754d052-clique_n2_k10.sanitized.cnf           | med=204.09     | med=202.89     | 30.06      | 505.88    \n",
      "d7f381cd99ca40ba3324c8cc03a54269-mchess16-mixed-25percent-blocked.cnf  | med=286.9      | med=310.63     | 38.00      | 45.57     \n",
      "b2145c28dbed385329ea73a06d9c519a-LZMAFile___init___14.cnf              | med=1800.01    | med=1800.01    | 30.07      | 1800.01   \n",
      "ec84eecb124c63d4757e083dd0e5a9ff-mchess_15.cnf                         | med=347.53     | med=551.19     | 31.47      | 123.69    \n",
      "fd2af7622798171f23a4b8d2616df55e-StreamReader_readline_13.cnf          | med=1389.61    | med=527.48     | 30.03      | 1800.01   \n",
      "dd169198070f9aa35015de65e8209a05-LZMAFile_write_12.cnf                 | med=1800.01    | med=1800.01    | 30.09      | 1800.01   \n",
      "fe8b1ef742724947620a419d0180a640-mchess18-mixed-35percent-blocked.cnf  | med=1800.01    | med=1800.01    | 88.26      | 271.09    \n",
      "ff867fd35aa52058382a8b0c21cd1f38-mchess20-mixed-35percent-blocked.cnf  | med=1800.01    | med=1800.01    | 421.87     | 1542.11   \n"
     ]
    },
    {
     "data": {
      "text/plain": [
       "CompletedProcess(args=['python3', 'analyze_cadical_log.py', 'slurm-30715207.out', '--globaltouch=true '], returncode=0)"
      ]
     },
     "execution_count": 25,
     "metadata": {},
     "output_type": "execute_result"
    }
   ],
   "source": [
    "subprocess.run([\"python3\", \"analyze_cadical_log.py\", \"slurm-30715207.out\", \"--globaltouch=true \"])"
   ]
  },
  {
   "cell_type": "code",
   "execution_count": 2,
   "metadata": {},
   "outputs": [
    {
     "name": "stdout",
     "output_type": "stream",
     "text": [
      "\n",
      "Timing comparison (each option treated independently)\n",
      "\n",
      "Query                                                                  | --globalisort=true  | Neither    | Prelearn   | Original  \n",
      "-----------------------------------------------------------------------------------------------------------------------------\n",
      "112b0ac22b2a567cd3badfed3a5497fd-mchess16-mixed-35percent-blocked.cnf  | med=216.7      | med=110.97     | 38.60      | 41.96     \n",
      "21bde0ebb111c637a1ae8789827b0b73-WCNF_from_fp_13.cnf                   | med=1800.01    | med=86.67      | 30.06      | 1800.00   \n",
      "19004c7d629f7e6e83c6e1d7a9a768a9-6s166.cnf                             | med=1156.53    | med=689.19     | 105.15     | 114.50    \n",
      "11db226d109e82f93aaa3b2604173ff9-posixpath__joinrealpath_13.cnf        | med=981.99     | med=1800.01    | 30.05      | 1800.00   \n",
      "37d40a1092b58ad28285b9453872d211-DecompressReader_read_12.cnf          | med=35.56      | med=35.71      | 30.05      | 1800.01   \n",
      "246afd75cb97a21144f368c00252a656-BZ2File_write_11.cnf                  | med=1800.01    | med=1583.4     | 30.09      | 1371.12   \n",
      "4029fbae284eaf924b37b6f43d3a67fb-WCNF_from_fp_14.cnf                   | med=1800.01    | med=1800.01    | 30.11      | 1800.01   \n",
      "41457ee03686b32962c12445524f62a9-mchess18-mixed-45percent-blocked.cnf  | med=524.29     | med=597.21     | 114.41     | 127.86    \n",
      "2c3c28f6d939d157e909c57a265fc908-mchess_17.cnf                         | med=1800.01    | med=1800.01    | 37.88      | 1800.00   \n",
      "41a8365f60db55b71d949df6954e0db7-FileObject_open_13.cnf                | med=1800.01    | med=577.13     | 30.05      | 1800.01   \n",
      "44092fcc83a5cba81419e82cfd18602c-php-010-009.shuffled-as.sat05-1185.cnf | med=0.07       | med=0.12       | 30.03      | 4.97      \n",
      "644fd765d26bd4a380922ccd0f594c58-mchess18-mixed-25percent-blocked.cnf  | med=1800.01    | med=1800.01    | 79.75      | 278.21    \n",
      "72b5ad031bf852634bc081f9da9a5a60-GzipFile_close_11.cnf                 | med=1800.01    | med=47.33      | 30.05      | 1800.01   \n",
      "7aaf3275cbe217044ef305f0a1ca8eb5-CNFPlus_from_fp_12.cnf                | med=1194.86    | med=32.66      | 30.06      | 1800.01   \n",
      "6aacae96461cb65176942b6dc88ea470-mchess20-mixed-25percent-blocked.cnf  | med=1800.01    | med=1800.01    | 1358.74    | 1800.00   \n",
      "751afd7ddf8f242ed7bd93517ba82149-mchess20-mixed-45percent-blocked.cnf  | med=1800.01    | med=1800.01    | 461.74     | 766.02    \n",
      "8d458780fb74c28c01a5fe89990ad521-mchess16-mixed-45percent-blocked.cnf  | med=97.4       | med=93.93      | 36.45      | 18.79     \n",
      "8704094951693f99fd21403a039c8131-mchess_16.cnf                         | med=1357.16    | med=697.64     | 32.97      | 92.70     \n",
      "965ca988015c9aee5a1a7b2136c1fe5d-os_fwalk_12.cnf                       | med=1152.26    | med=363.92     | 30.07      | 1800.00   \n",
      "a4b05fbc5be28207b704e1fae4b7c8a0-FileObject_open_12.cnf                | med=1800.01    | med=110.61     | 30.06      | 1800.01   \n",
      "824c21545e228872744675ae4ee32976-WCNFPlus_to_alien_14.cnf              | med=1800.01    | med=1800.01    | 30.12      | 1800.00   \n",
      "b09585f2346c207e9e14a3daf0de46cf-CNF_to_alien_11.cnf                   | med=591.33     | med=1162.74    | 30.05      | 1545.83   \n",
      "c32f194ad850c944142c74514dfb3c5f-WCNFPlus_from_fp_13.cnf               | med=1800.01    | med=33.86      | 30.17      | 1800.01   \n",
      "af1e84bc2ab44d87d1c4c0cbf9e601c5-posixpath_expanduser_14.cnf           | med=1800.01    | med=1800.01    | 54.39      | 1800.00   \n",
      "cb2e8b7fada420c5046f587ea754d052-clique_n2_k10.sanitized.cnf           | med=1800.01    | med=343.8      | 30.06      | 505.88    \n",
      "d7f381cd99ca40ba3324c8cc03a54269-mchess16-mixed-25percent-blocked.cnf  | med=404.29     | med=254.63     | 38.00      | 45.57     \n",
      "b2145c28dbed385329ea73a06d9c519a-LZMAFile___init___14.cnf              | med=1800.01    | med=1800.01    | 30.07      | 1800.01   \n",
      "fd2af7622798171f23a4b8d2616df55e-StreamReader_readline_13.cnf          | med=34.06      | med=951.68     | 30.03      | 1800.01   \n",
      "ec84eecb124c63d4757e083dd0e5a9ff-mchess_15.cnf                         | med=466.47     | med=150.45     | 31.47      | 123.69    \n",
      "dd169198070f9aa35015de65e8209a05-LZMAFile_write_12.cnf                 | med=1800.01    | med=1800.01    | 30.09      | 1800.01   \n",
      "fe8b1ef742724947620a419d0180a640-mchess18-mixed-35percent-blocked.cnf  | med=1800.01    | med=1800.01    | 88.26      | 271.09    \n",
      "ff867fd35aa52058382a8b0c21cd1f38-mchess20-mixed-35percent-blocked.cnf  | med=1800.01    | med=1800.01    | 421.87     | 1542.11   \n"
     ]
    },
    {
     "data": {
      "text/plain": [
       "CompletedProcess(args=['python3', 'analyze_cadical_log.py', 'slurm-30719303.out', '--globalisort=true '], returncode=0)"
      ]
     },
     "execution_count": 2,
     "metadata": {},
     "output_type": "execute_result"
    }
   ],
   "source": [
    "subprocess.run([\"python3\", \"analyze_cadical_log.py\", \"slurm-30719303.out\", \"--globalisort=true \"])"
   ]
  },
  {
   "cell_type": "code",
   "execution_count": 6,
   "metadata": {},
   "outputs": [
    {
     "name": "stdout",
     "output_type": "stream",
     "text": [
      "\n",
      "Timing comparison (each option treated independently)\n",
      "\n",
      "Query                                                                  | --globalmaxclause=0  | Neither    | Prelearn   | Original  \n",
      "-----------------------------------------------------------------------------------------------------------------------------\n",
      "11db226d109e82f93aaa3b2604173ff9-posixpath__joinrealpath_13.cnf        | med=30.87      | med=30.7       | 30.05      | 1800.00   \n",
      "21bde0ebb111c637a1ae8789827b0b73-WCNF_from_fp_13.cnf                   | med=30.86      | med=31.01      | 30.06      | 1800.00   \n",
      "112b0ac22b2a567cd3badfed3a5497fd-mchess16-mixed-35percent-blocked.cnf  | med=89.24      | med=96.31      | 38.60      | 41.96     \n",
      "37d40a1092b58ad28285b9453872d211-DecompressReader_read_12.cnf          | med=31.51      | med=6.48       | 30.05      | 1800.01   \n",
      "4029fbae284eaf924b37b6f43d3a67fb-WCNF_from_fp_14.cnf                   | med=91.84      | med=204.59     | 30.11      | 1800.01   \n",
      "2c3c28f6d939d157e909c57a265fc908-mchess_17.cnf                         | med=1800.01    | med=918.16     | 37.88      | 1800.00   \n",
      "19004c7d629f7e6e83c6e1d7a9a768a9-6s166.cnf                             | med=690.86     | med=659.81     | 105.15     | 114.50    \n",
      "41a8365f60db55b71d949df6954e0db7-FileObject_open_13.cnf                | med=134.8      | med=110.16     | 30.05      | 1800.01   \n",
      "41457ee03686b32962c12445524f62a9-mchess18-mixed-45percent-blocked.cnf  | med=538.23     | med=1125.34    | 114.41     | 127.86    \n",
      "246afd75cb97a21144f368c00252a656-BZ2File_write_11.cnf                  | med=1322.48    | med=1640.19    | 30.09      | 1371.12   \n",
      "44092fcc83a5cba81419e82cfd18602c-php-010-009.shuffled-as.sat05-1185.cnf | med=0.12       | med=0.12       | 30.03      | 4.97      \n",
      "644fd765d26bd4a380922ccd0f594c58-mchess18-mixed-25percent-blocked.cnf  | med=1124.6     | med=1800.01    | 79.75      | 278.21    \n",
      "72b5ad031bf852634bc081f9da9a5a60-GzipFile_close_11.cnf                 | med=30.71      | med=31.41      | 30.05      | 1800.01   \n",
      "7aaf3275cbe217044ef305f0a1ca8eb5-CNFPlus_from_fp_12.cnf                | med=30.96      | med=31.26      | 30.06      | 1800.01   \n",
      "8704094951693f99fd21403a039c8131-mchess_16.cnf                         | med=83.08      | med=138.11     | 32.97      | 92.70     \n",
      "6aacae96461cb65176942b6dc88ea470-mchess20-mixed-25percent-blocked.cnf  | med=1800.01    | med=1800.01    | 1358.74    | 1800.00   \n",
      "8d458780fb74c28c01a5fe89990ad521-mchess16-mixed-45percent-blocked.cnf  | med=95.49      | med=98.3       | 36.45      | 18.79     \n",
      "965ca988015c9aee5a1a7b2136c1fe5d-os_fwalk_12.cnf                       | med=34.61      | med=43.38      | 30.07      | 1800.00   \n",
      "a4b05fbc5be28207b704e1fae4b7c8a0-FileObject_open_12.cnf                | med=34.62      | med=37.17      | 30.06      | 1800.01   \n",
      "751afd7ddf8f242ed7bd93517ba82149-mchess20-mixed-45percent-blocked.cnf  | med=1800.01    | med=1800.01    | 461.74     | 766.02    \n",
      "b09585f2346c207e9e14a3daf0de46cf-CNF_to_alien_11.cnf                   | med=350.74     | med=552.08     | 30.05      | 1545.83   \n",
      "b2145c28dbed385329ea73a06d9c519a-LZMAFile___init___14.cnf              | med=1800.01    | med=1800.01    | 30.07      | 1800.01   \n",
      "824c21545e228872744675ae4ee32976-WCNFPlus_to_alien_14.cnf              | med=1800.01    | med=1800.01    | 30.12      | 1800.00   \n",
      "c32f194ad850c944142c74514dfb3c5f-WCNFPlus_from_fp_13.cnf               | med=38.32      | med=1800.01    | 30.17      | 1800.01   \n",
      "cb2e8b7fada420c5046f587ea754d052-clique_n2_k10.sanitized.cnf           | med=69.91      | med=58.15      | 30.06      | 505.88    \n",
      "d7f381cd99ca40ba3324c8cc03a54269-mchess16-mixed-25percent-blocked.cnf  | med=225.77     | med=209.95     | 38.00      | 45.57     \n",
      "af1e84bc2ab44d87d1c4c0cbf9e601c5-posixpath_expanduser_14.cnf           | med=1800.01    | med=1800.01    | 54.39      | 1800.00   \n",
      "ec84eecb124c63d4757e083dd0e5a9ff-mchess_15.cnf                         | med=49.13      | med=44.18      | 31.47      | 123.69    \n",
      "fd2af7622798171f23a4b8d2616df55e-StreamReader_readline_13.cnf          | med=30.87      | med=32.06      | 30.03      | 1800.01   \n",
      "fe8b1ef742724947620a419d0180a640-mchess18-mixed-35percent-blocked.cnf  | med=1466.88    | med=1500.29    | 88.26      | 271.09    \n",
      "dd169198070f9aa35015de65e8209a05-LZMAFile_write_12.cnf                 | med=1800.01    | med=1800.01    | 30.09      | 1800.01   \n",
      "ff867fd35aa52058382a8b0c21cd1f38-mchess20-mixed-35percent-blocked.cnf  | med=1800.01    | med=1800.01    | 421.87     | 1542.11   \n"
     ]
    },
    {
     "data": {
      "text/plain": [
       "CompletedProcess(args=['python3', 'analyze_cadical_log.py', 'slurm-30725478.out', '--globalmaxclause=0 '], returncode=0)"
      ]
     },
     "execution_count": 6,
     "metadata": {},
     "output_type": "execute_result"
    }
   ],
   "source": [
    "subprocess.run([\"python3\", \"analyze_cadical_log.py\", \"slurm-30725478.out\", \"--globalmaxclause=0 \"])\n"
   ]
  },
  {
   "cell_type": "code",
   "execution_count": null,
   "metadata": {},
   "outputs": [],
   "source": []
  }
 ],
 "metadata": {
  "kernelspec": {
   "display_name": "my_env",
   "language": "python",
   "name": "python3"
  },
  "language_info": {
   "codemirror_mode": {
    "name": "ipython",
    "version": 3
   },
   "file_extension": ".py",
   "mimetype": "text/x-python",
   "name": "python",
   "nbconvert_exporter": "python",
   "pygments_lexer": "ipython3",
   "version": "3.8.20"
  }
 },
 "nbformat": 4,
 "nbformat_minor": 2
}
